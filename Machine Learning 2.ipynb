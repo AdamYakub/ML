{
 "cells": [
  {
   "cell_type": "code",
   "execution_count": 3,
   "id": "bb492023",
   "metadata": {},
   "outputs": [],
   "source": [
    "import pandas as pd\n",
    "import numpy as np\n",
    "import seaborn as sns\n",
    "import matplotlib.pyplot as plt\n",
    "from sklearn.metrics import confusion_matrix,classification_report,auc,roc_curve\n",
    "from sklearn.preprocessing import StandardScaler, LabelEncoder\n",
    "from sklearn.model_selection import train_test_split\n",
    "from sklearn.linear_model import LinearRegression, LogisticRegression\n",
    "from sklearn.svm import SVC\n",
    "from sklearn import tree\n",
    "from sklearn import ensemble\n",
    "%matplotlib inline"
   ]
  },
  {
   "cell_type": "code",
   "execution_count": 4,
   "id": "ac1af0a3",
   "metadata": {},
   "outputs": [],
   "source": [
    "df = pd.read_excel('LR.xlsx') "
   ]
  },
  {
   "cell_type": "code",
   "execution_count": 5,
   "id": "46b869c0",
   "metadata": {},
   "outputs": [
    {
     "data": {
      "text/html": [
       "<div>\n",
       "<style scoped>\n",
       "    .dataframe tbody tr th:only-of-type {\n",
       "        vertical-align: middle;\n",
       "    }\n",
       "\n",
       "    .dataframe tbody tr th {\n",
       "        vertical-align: top;\n",
       "    }\n",
       "\n",
       "    .dataframe thead th {\n",
       "        text-align: right;\n",
       "    }\n",
       "</style>\n",
       "<table border=\"1\" class=\"dataframe\">\n",
       "  <thead>\n",
       "    <tr style=\"text-align: right;\">\n",
       "      <th></th>\n",
       "      <th>Input</th>\n",
       "      <th>Output</th>\n",
       "    </tr>\n",
       "  </thead>\n",
       "  <tbody>\n",
       "    <tr>\n",
       "      <th>0</th>\n",
       "      <td>6</td>\n",
       "      <td>76</td>\n",
       "    </tr>\n",
       "    <tr>\n",
       "      <th>1</th>\n",
       "      <td>16</td>\n",
       "      <td>10</td>\n",
       "    </tr>\n",
       "    <tr>\n",
       "      <th>2</th>\n",
       "      <td>9</td>\n",
       "      <td>44</td>\n",
       "    </tr>\n",
       "    <tr>\n",
       "      <th>3</th>\n",
       "      <td>8</td>\n",
       "      <td>47</td>\n",
       "    </tr>\n",
       "    <tr>\n",
       "      <th>4</th>\n",
       "      <td>14</td>\n",
       "      <td>23</td>\n",
       "    </tr>\n",
       "    <tr>\n",
       "      <th>5</th>\n",
       "      <td>11</td>\n",
       "      <td>19</td>\n",
       "    </tr>\n",
       "    <tr>\n",
       "      <th>6</th>\n",
       "      <td>12</td>\n",
       "      <td>13</td>\n",
       "    </tr>\n",
       "    <tr>\n",
       "      <th>7</th>\n",
       "      <td>10</td>\n",
       "      <td>19</td>\n",
       "    </tr>\n",
       "    <tr>\n",
       "      <th>8</th>\n",
       "      <td>18</td>\n",
       "      <td>8</td>\n",
       "    </tr>\n",
       "    <tr>\n",
       "      <th>9</th>\n",
       "      <td>5</td>\n",
       "      <td>44</td>\n",
       "    </tr>\n",
       "  </tbody>\n",
       "</table>\n",
       "</div>"
      ],
      "text/plain": [
       "   Input  Output\n",
       "0      6      76\n",
       "1     16      10\n",
       "2      9      44\n",
       "3      8      47\n",
       "4     14      23\n",
       "5     11      19\n",
       "6     12      13\n",
       "7     10      19\n",
       "8     18       8\n",
       "9      5      44"
      ]
     },
     "execution_count": 5,
     "metadata": {},
     "output_type": "execute_result"
    }
   ],
   "source": [
    "df.head(10)"
   ]
  },
  {
   "cell_type": "code",
   "execution_count": 169,
   "id": "0a6e9725",
   "metadata": {},
   "outputs": [],
   "source": [
    "x = df['Input']"
   ]
  },
  {
   "cell_type": "code",
   "execution_count": 170,
   "id": "b85203a1",
   "metadata": {},
   "outputs": [],
   "source": [
    "y = df['Output']"
   ]
  },
  {
   "cell_type": "code",
   "execution_count": 171,
   "id": "9f03317b",
   "metadata": {},
   "outputs": [],
   "source": [
    "x = np.array(x)"
   ]
  },
  {
   "cell_type": "code",
   "execution_count": 172,
   "id": "aa1ce104",
   "metadata": {},
   "outputs": [],
   "source": [
    "x =x.reshape(-1,1)"
   ]
  },
  {
   "cell_type": "code",
   "execution_count": 173,
   "id": "1cccdb65",
   "metadata": {},
   "outputs": [],
   "source": [
    "Lin = LinearRegression()"
   ]
  },
  {
   "cell_type": "code",
   "execution_count": 174,
   "id": "8bc09787",
   "metadata": {},
   "outputs": [],
   "source": [
    "Linfit = Lin.fit(x,y)"
   ]
  },
  {
   "cell_type": "code",
   "execution_count": 175,
   "id": "ab305f66",
   "metadata": {},
   "outputs": [],
   "source": [
    "ypred = Linfit.predict(x)"
   ]
  },
  {
   "cell_type": "code",
   "execution_count": 176,
   "id": "f3b01847",
   "metadata": {},
   "outputs": [
    {
     "data": {
      "text/plain": [
       "array([43.53107089, 17.53559578, 35.73242836, 38.33197587, 22.7346908 ,\n",
       "       30.53333333, 27.93378582, 33.13288084, 12.33650075, 46.1306184 ,\n",
       "       -8.45987934, 38.33197587, 38.33197587, 35.73242836, 46.1306184 ])"
      ]
     },
     "execution_count": 176,
     "metadata": {},
     "output_type": "execute_result"
    }
   ],
   "source": [
    "ypred"
   ]
  },
  {
   "cell_type": "code",
   "execution_count": 177,
   "id": "88b95b7a",
   "metadata": {},
   "outputs": [
    {
     "data": {
      "text/plain": [
       "array([-2.59954751])"
      ]
     },
     "execution_count": 177,
     "metadata": {},
     "output_type": "execute_result"
    }
   ],
   "source": [
    "Lin.coef_"
   ]
  },
  {
   "cell_type": "code",
   "execution_count": 178,
   "id": "7fffefab",
   "metadata": {},
   "outputs": [
    {
     "data": {
      "text/plain": [
       "59.12835595776774"
      ]
     },
     "execution_count": 178,
     "metadata": {},
     "output_type": "execute_result"
    }
   ],
   "source": [
    "Lin.intercept_"
   ]
  },
  {
   "cell_type": "code",
   "execution_count": 179,
   "id": "534d792b",
   "metadata": {},
   "outputs": [],
   "source": [
    "%matplotlib inline"
   ]
  },
  {
   "cell_type": "code",
   "execution_count": 39,
   "id": "e846f736",
   "metadata": {},
   "outputs": [
    {
     "data": {
      "text/plain": [
       "<matplotlib.legend.Legend at 0x1f4070831f0>"
      ]
     },
     "execution_count": 39,
     "metadata": {},
     "output_type": "execute_result"
    },
    {
     "data": {
      "image/png": "[encoded data removed]",
      "text/plain": [
       "<Figure size 640x480 with 1 Axes>"
      ]
     },
     "metadata": {},
     "output_type": "display_data"
    }
   ],
   "source": [
    "plt.scatter(x,y, label= 'X and Y')\n",
    "plt.plot(x,ypred, c='red',label= 'X and Ypred')\n",
    "plt.title('Linear Regression')\n",
    "plt.xlabel('X Axis -->')\n",
    "plt.ylabel('Y Axis -->')\n",
    "plt.legend()"
   ]
  },
  {
   "cell_type": "code",
   "execution_count": 180,
   "id": "288a207f",
   "metadata": {},
   "outputs": [],
   "source": [
    "#more summary from our  regression\n",
    "import statsmodels.api as sm"
   ]
  },
  {
   "cell_type": "code",
   "execution_count": 187,
   "id": "04e8e612",
   "metadata": {},
   "outputs": [],
   "source": [
    "x = sm.add_constant(x)"
   ]
  },
  {
   "cell_type": "code",
   "execution_count": 218,
   "id": "1a422ffa",
   "metadata": {},
   "outputs": [],
   "source": [
    "Linsum = sm.OLS(y,x).fit()"
   ]
  },
  {
   "cell_type": "code",
   "execution_count": 219,
   "id": "2ef9480a",
   "metadata": {},
   "outputs": [
    {
     "name": "stderr",
     "output_type": "stream",
     "text": [
      "C:\\Users\\DELL\\anaconda3\\New folder\\lib\\site-packages\\scipy\\stats\\_stats_py.py:1769: UserWarning: kurtosistest only valid for n>=20 ... continuing anyway, n=15\n",
      "  warnings.warn(\"kurtosistest only valid for n>=20 ... continuing \"\n"
     ]
    },
    {
     "data": {
      "text/html": [
       "<table class=\"simpletable\">\n",
       "<caption>OLS Regression Results</caption>\n",
       "<tr>\n",
       "  <th>Dep. Variable:</th>         <td>Output</td>      <th>  R-squared:         </th> <td>   0.510</td>\n",
       "</tr>\n",
       "<tr>\n",
       "  <th>Model:</th>                   <td>OLS</td>       <th>  Adj. R-squared:    </th> <td>   0.472</td>\n",
       "</tr>\n",
       "<tr>\n",
       "  <th>Method:</th>             <td>Least Squares</td>  <th>  F-statistic:       </th> <td>   13.52</td>\n",
       "</tr>\n",
       "<tr>\n",
       "  <th>Date:</th>             <td>Mon, 07 Nov 2022</td> <th>  Prob (F-statistic):</th>  <td>0.00279</td>\n",
       "</tr>\n",
       "<tr>\n",
       "  <th>Time:</th>                 <td>20:20:25</td>     <th>  Log-Likelihood:    </th> <td> -60.697</td>\n",
       "</tr>\n",
       "<tr>\n",
       "  <th>No. Observations:</th>      <td>    15</td>      <th>  AIC:               </th> <td>   125.4</td>\n",
       "</tr>\n",
       "<tr>\n",
       "  <th>Df Residuals:</th>          <td>    13</td>      <th>  BIC:               </th> <td>   126.8</td>\n",
       "</tr>\n",
       "<tr>\n",
       "  <th>Df Model:</th>              <td>     1</td>      <th>                     </th>     <td> </td>   \n",
       "</tr>\n",
       "<tr>\n",
       "  <th>Covariance Type:</th>      <td>nonrobust</td>    <th>                     </th>     <td> </td>   \n",
       "</tr>\n",
       "</table>\n",
       "<table class=\"simpletable\">\n",
       "<tr>\n",
       "    <td></td>       <th>coef</th>     <th>std err</th>      <th>t</th>      <th>P>|t|</th>  <th>[0.025</th>    <th>0.975]</th>  \n",
       "</tr>\n",
       "<tr>\n",
       "  <th>const</th> <td>   59.1284</td> <td>    8.673</td> <td>    6.817</td> <td> 0.000</td> <td>   40.390</td> <td>   77.866</td>\n",
       "</tr>\n",
       "<tr>\n",
       "  <th>x1</th>    <td>   -2.5995</td> <td>    0.707</td> <td>   -3.676</td> <td> 0.003</td> <td>   -4.127</td> <td>   -1.072</td>\n",
       "</tr>\n",
       "</table>\n",
       "<table class=\"simpletable\">\n",
       "<tr>\n",
       "  <th>Omnibus:</th>       <td> 3.641</td> <th>  Durbin-Watson:     </th> <td>   1.841</td>\n",
       "</tr>\n",
       "<tr>\n",
       "  <th>Prob(Omnibus):</th> <td> 0.162</td> <th>  Jarque-Bera (JB):  </th> <td>   2.249</td>\n",
       "</tr>\n",
       "<tr>\n",
       "  <th>Skew:</th>          <td> 0.948</td> <th>  Prob(JB):          </th> <td>   0.325</td>\n",
       "</tr>\n",
       "<tr>\n",
       "  <th>Kurtosis:</th>      <td> 2.911</td> <th>  Cond. No.          </th> <td>    27.9</td>\n",
       "</tr>\n",
       "</table><br/><br/>Notes:<br/>[1] Standard Errors assume that the covariance matrix of the errors is correctly specified."
      ],
      "text/plain": [
       "<class 'statsmodels.iolib.summary.Summary'>\n",
       "\"\"\"\n",
       "                            OLS Regression Results                            \n",
       "==============================================================================\n",
       "Dep. Variable:                 Output   R-squared:                       0.510\n",
       "Model:                            OLS   Adj. R-squared:                  0.472\n",
       "Method:                 Least Squares   F-statistic:                     13.52\n",
       "Date:                Mon, 07 Nov 2022   Prob (F-statistic):            0.00279\n",
       "Time:                        20:20:25   Log-Likelihood:                -60.697\n",
       "No. Observations:                  15   AIC:                             125.4\n",
       "Df Residuals:                      13   BIC:                             126.8\n",
       "Df Model:                           1                                         \n",
       "Covariance Type:            nonrobust                                         \n",
       "==============================================================================\n",
       "                 coef    std err          t      P>|t|      [0.025      0.975]\n",
       "------------------------------------------------------------------------------\n",
       "const         59.1284      8.673      6.817      0.000      40.390      77.866\n",
       "x1            -2.5995      0.707     -3.676      0.003      -4.127      -1.072\n",
       "==============================================================================\n",
       "Omnibus:                        3.641   Durbin-Watson:                   1.841\n",
       "Prob(Omnibus):                  0.162   Jarque-Bera (JB):                2.249\n",
       "Skew:                           0.948   Prob(JB):                        0.325\n",
       "Kurtosis:                       2.911   Cond. No.                         27.9\n",
       "==============================================================================\n",
       "\n",
       "Notes:\n",
       "[1] Standard Errors assume that the covariance matrix of the errors is correctly specified.\n",
       "\"\"\""
      ]
     },
     "execution_count": 219,
     "metadata": {},
     "output_type": "execute_result"
    }
   ],
   "source": [
    "Linsum.summary()"
   ]
  },
  {
   "cell_type": "markdown",
   "id": "7fefdb5e",
   "metadata": {},
   "source": [
    "# Classifier"
   ]
  },
  {
   "cell_type": "code",
   "execution_count": 26,
   "id": "cc6317b9",
   "metadata": {},
   "outputs": [],
   "source": [
    "fd = pd.read_excel('Dsp.xlsx')"
   ]
  },
  {
   "cell_type": "code",
   "execution_count": 27,
   "id": "8b6bad9e",
   "metadata": {},
   "outputs": [
    {
     "data": {
      "text/html": [
       "<div>\n",
       "<style scoped>\n",
       "    .dataframe tbody tr th:only-of-type {\n",
       "        vertical-align: middle;\n",
       "    }\n",
       "\n",
       "    .dataframe tbody tr th {\n",
       "        vertical-align: top;\n",
       "    }\n",
       "\n",
       "    .dataframe thead th {\n",
       "        text-align: right;\n",
       "    }\n",
       "</style>\n",
       "<table border=\"1\" class=\"dataframe\">\n",
       "  <thead>\n",
       "    <tr style=\"text-align: right;\">\n",
       "      <th></th>\n",
       "      <th>User</th>\n",
       "      <th>Time</th>\n",
       "      <th>Cofee</th>\n",
       "      <th>Age</th>\n",
       "      <th>Image Analyzed</th>\n",
       "      <th>Productivity</th>\n",
       "    </tr>\n",
       "  </thead>\n",
       "  <tbody>\n",
       "    <tr>\n",
       "      <th>0</th>\n",
       "      <td>3.0</td>\n",
       "      <td>15.0</td>\n",
       "      <td>0.0</td>\n",
       "      <td>40.0</td>\n",
       "      <td>13.0</td>\n",
       "      <td>Bad</td>\n",
       "    </tr>\n",
       "    <tr>\n",
       "      <th>1</th>\n",
       "      <td>2.0</td>\n",
       "      <td>2.0</td>\n",
       "      <td>0.0</td>\n",
       "      <td>40.0</td>\n",
       "      <td>17.0</td>\n",
       "      <td>Good</td>\n",
       "    </tr>\n",
       "    <tr>\n",
       "      <th>2</th>\n",
       "      <td>1.0</td>\n",
       "      <td>14.0</td>\n",
       "      <td>1.0</td>\n",
       "      <td>40.0</td>\n",
       "      <td>16.0</td>\n",
       "      <td>Bad</td>\n",
       "    </tr>\n",
       "    <tr>\n",
       "      <th>3</th>\n",
       "      <td>1.0</td>\n",
       "      <td>20.0</td>\n",
       "      <td>0.0</td>\n",
       "      <td>36.0</td>\n",
       "      <td>12.0</td>\n",
       "      <td>Good</td>\n",
       "    </tr>\n",
       "    <tr>\n",
       "      <th>4</th>\n",
       "      <td>5.0</td>\n",
       "      <td>13.0</td>\n",
       "      <td>3.0</td>\n",
       "      <td>39.0</td>\n",
       "      <td>23.0</td>\n",
       "      <td>Good</td>\n",
       "    </tr>\n",
       "    <tr>\n",
       "      <th>...</th>\n",
       "      <td>...</td>\n",
       "      <td>...</td>\n",
       "      <td>...</td>\n",
       "      <td>...</td>\n",
       "      <td>...</td>\n",
       "      <td>...</td>\n",
       "    </tr>\n",
       "    <tr>\n",
       "      <th>194</th>\n",
       "      <td>2.0</td>\n",
       "      <td>21.0</td>\n",
       "      <td>1.0</td>\n",
       "      <td>30.0</td>\n",
       "      <td>10.0</td>\n",
       "      <td>Good</td>\n",
       "    </tr>\n",
       "    <tr>\n",
       "      <th>195</th>\n",
       "      <td>1.0</td>\n",
       "      <td>6.0</td>\n",
       "      <td>5.0</td>\n",
       "      <td>29.0</td>\n",
       "      <td>14.0</td>\n",
       "      <td>Good</td>\n",
       "    </tr>\n",
       "    <tr>\n",
       "      <th>196</th>\n",
       "      <td>1.0</td>\n",
       "      <td>5.0</td>\n",
       "      <td>0.0</td>\n",
       "      <td>65.0</td>\n",
       "      <td>14.0</td>\n",
       "      <td>Bad</td>\n",
       "    </tr>\n",
       "    <tr>\n",
       "      <th>197</th>\n",
       "      <td>2.0</td>\n",
       "      <td>17.0</td>\n",
       "      <td>3.0</td>\n",
       "      <td>32.0</td>\n",
       "      <td>NaN</td>\n",
       "      <td>Good</td>\n",
       "    </tr>\n",
       "    <tr>\n",
       "      <th>198</th>\n",
       "      <td>4.0</td>\n",
       "      <td>NaN</td>\n",
       "      <td>6.0</td>\n",
       "      <td>36.0</td>\n",
       "      <td>18.0</td>\n",
       "      <td>Bad</td>\n",
       "    </tr>\n",
       "  </tbody>\n",
       "</table>\n",
       "<p>199 rows × 6 columns</p>\n",
       "</div>"
      ],
      "text/plain": [
       "     User  Time  Cofee   Age  Image Analyzed Productivity\n",
       "0     3.0  15.0    0.0  40.0            13.0          Bad\n",
       "1     2.0   2.0    0.0  40.0            17.0         Good\n",
       "2     1.0  14.0    1.0  40.0            16.0          Bad\n",
       "3     1.0  20.0    0.0  36.0            12.0         Good\n",
       "4     5.0  13.0    3.0  39.0            23.0         Good\n",
       "..    ...   ...    ...   ...             ...          ...\n",
       "194   2.0  21.0    1.0  30.0            10.0         Good\n",
       "195   1.0   6.0    5.0  29.0            14.0         Good\n",
       "196   1.0   5.0    0.0  65.0            14.0          Bad\n",
       "197   2.0  17.0    3.0  32.0             NaN         Good\n",
       "198   4.0   NaN    6.0  36.0            18.0          Bad\n",
       "\n",
       "[199 rows x 6 columns]"
      ]
     },
     "execution_count": 27,
     "metadata": {},
     "output_type": "execute_result"
    }
   ],
   "source": [
    "fd"
   ]
  },
  {
   "cell_type": "code",
   "execution_count": 28,
   "id": "9fab6d0c",
   "metadata": {},
   "outputs": [
    {
     "name": "stdout",
     "output_type": "stream",
     "text": [
      "<class 'pandas.core.frame.DataFrame'>\n",
      "RangeIndex: 199 entries, 0 to 198\n",
      "Data columns (total 6 columns):\n",
      " #   Column          Non-Null Count  Dtype  \n",
      "---  ------          --------------  -----  \n",
      " 0   User            187 non-null    float64\n",
      " 1   Time            190 non-null    float64\n",
      " 2   Cofee           195 non-null    float64\n",
      " 3   Age             196 non-null    float64\n",
      " 4   Image Analyzed  195 non-null    float64\n",
      " 5   Productivity    197 non-null    object \n",
      "dtypes: float64(5), object(1)\n",
      "memory usage: 9.5+ KB\n"
     ]
    }
   ],
   "source": [
    "fd.info()"
   ]
  },
  {
   "cell_type": "code",
   "execution_count": 40,
   "id": "5081a8c1",
   "metadata": {},
   "outputs": [
    {
     "data": {
      "text/plain": [
       "<AxesSubplot:>"
      ]
     },
     "execution_count": 40,
     "metadata": {},
     "output_type": "execute_result"
    },
    {
     "data": {
      "image/png": "[encoded data removed]",
      "text/plain": [
       "<Figure size 640x480 with 2 Axes>"
      ]
     },
     "metadata": {},
     "output_type": "display_data"
    }
   ],
   "source": [
    "sns.heatmap(null)"
   ]
  },
  {
   "cell_type": "code",
   "execution_count": 54,
   "id": "f23d9c00",
   "metadata": {},
   "outputs": [
    {
     "ename": "AttributeError",
     "evalue": "'Series' object has no attribute 'values_count'",
     "output_type": "error",
     "traceback": [
      "\u001b[1;31m---------------------------------------------------------------------------\u001b[0m",
      "\u001b[1;31mAttributeError\u001b[0m                            Traceback (most recent call last)",
      "\u001b[1;32m~\\AppData\\Local\\Temp\\ipykernel_7332\\1967705015.py\u001b[0m in \u001b[0;36m<module>\u001b[1;34m\u001b[0m\n\u001b[1;32m----> 1\u001b[1;33m \u001b[0mfd\u001b[0m\u001b[1;33m[\u001b[0m\u001b[1;34m'Productivity'\u001b[0m\u001b[1;33m]\u001b[0m\u001b[1;33m.\u001b[0m\u001b[0mvalues_count\u001b[0m\u001b[1;33m(\u001b[0m\u001b[1;33m)\u001b[0m\u001b[1;33m\u001b[0m\u001b[1;33m\u001b[0m\u001b[0m\n\u001b[0m",
      "\u001b[1;32m~\\anaconda3\\New folder\\lib\\site-packages\\pandas\\core\\generic.py\u001b[0m in \u001b[0;36m__getattr__\u001b[1;34m(self, name)\u001b[0m\n\u001b[0;32m   5573\u001b[0m         ):\n\u001b[0;32m   5574\u001b[0m             \u001b[1;32mreturn\u001b[0m \u001b[0mself\u001b[0m\u001b[1;33m[\u001b[0m\u001b[0mname\u001b[0m\u001b[1;33m]\u001b[0m\u001b[1;33m\u001b[0m\u001b[1;33m\u001b[0m\u001b[0m\n\u001b[1;32m-> 5575\u001b[1;33m         \u001b[1;32mreturn\u001b[0m \u001b[0mobject\u001b[0m\u001b[1;33m.\u001b[0m\u001b[0m__getattribute__\u001b[0m\u001b[1;33m(\u001b[0m\u001b[0mself\u001b[0m\u001b[1;33m,\u001b[0m \u001b[0mname\u001b[0m\u001b[1;33m)\u001b[0m\u001b[1;33m\u001b[0m\u001b[1;33m\u001b[0m\u001b[0m\n\u001b[0m\u001b[0;32m   5576\u001b[0m \u001b[1;33m\u001b[0m\u001b[0m\n\u001b[0;32m   5577\u001b[0m     \u001b[1;32mdef\u001b[0m \u001b[0m__setattr__\u001b[0m\u001b[1;33m(\u001b[0m\u001b[0mself\u001b[0m\u001b[1;33m,\u001b[0m \u001b[0mname\u001b[0m\u001b[1;33m:\u001b[0m \u001b[0mstr\u001b[0m\u001b[1;33m,\u001b[0m \u001b[0mvalue\u001b[0m\u001b[1;33m)\u001b[0m \u001b[1;33m->\u001b[0m \u001b[1;32mNone\u001b[0m\u001b[1;33m:\u001b[0m\u001b[1;33m\u001b[0m\u001b[1;33m\u001b[0m\u001b[0m\n",
      "\u001b[1;31mAttributeError\u001b[0m: 'Series' object has no attribute 'values_count'"
     ]
    }
   ],
   "source": [
    "fd['Productivity'].values_count()"
   ]
  },
  {
   "cell_type": "code",
   "execution_count": 48,
   "id": "57081478",
   "metadata": {},
   "outputs": [
    {
     "data": {
      "text/plain": [
       "<AxesSubplot:xlabel='Productivity', ylabel='count'>"
      ]
     },
     "execution_count": 48,
     "metadata": {},
     "output_type": "execute_result"
    },
    {
     "data": {
      "image/png": "[encoded data removed]",
      "text/plain": [
       "<Figure size 640x480 with 1 Axes>"
      ]
     },
     "metadata": {},
     "output_type": "display_data"
    }
   ],
   "source": [
    "sns.countplot(fd['Productivity'])"
   ]
  },
  {
   "cell_type": "code",
   "execution_count": 55,
   "id": "5fe6213f",
   "metadata": {},
   "outputs": [],
   "source": [
    "fd.dropna(inplace=True)"
   ]
  },
  {
   "cell_type": "code",
   "execution_count": 59,
   "id": "461a9aea",
   "metadata": {},
   "outputs": [],
   "source": [
    "fd.drop(['User','Image Analyzed'],axis =1,inplace=True)"
   ]
  },
  {
   "cell_type": "code",
   "execution_count": 61,
   "id": "e29f8e8a",
   "metadata": {},
   "outputs": [],
   "source": [
    "fd.columns = fd.columns.str.lower()"
   ]
  },
  {
   "cell_type": "code",
   "execution_count": 62,
   "id": "3c4e0aca",
   "metadata": {},
   "outputs": [],
   "source": [
    "fd['time'] =fd['time'].astype(int)"
   ]
  },
  {
   "cell_type": "code",
   "execution_count": 63,
   "id": "039dfcee",
   "metadata": {},
   "outputs": [],
   "source": [
    "fd['cofee'] = fd['cofee'].astype(int)"
   ]
  },
  {
   "cell_type": "code",
   "execution_count": 65,
   "id": "302d8108",
   "metadata": {},
   "outputs": [],
   "source": [
    "fd['age'] = fd['age'].astype(int)"
   ]
  },
  {
   "cell_type": "code",
   "execution_count": 67,
   "id": "6867e58e",
   "metadata": {},
   "outputs": [
    {
     "name": "stderr",
     "output_type": "stream",
     "text": [
      "C:\\Users\\DELL\\AppData\\Local\\Temp\\ipykernel_7332\\1945655112.py:1: SettingWithCopyWarning: \n",
      "A value is trying to be set on a copy of a slice from a DataFrame\n",
      "\n",
      "See the caveats in the documentation: https://pandas.pydata.org/pandas-docs/stable/user_guide/indexing.html#returning-a-view-versus-a-copy\n",
      "  fd.productivity[fd['productivity'] == 'Good'] =1\n"
     ]
    }
   ],
   "source": [
    "fd.productivity[fd['productivity'] == 'Good'] =1"
   ]
  },
  {
   "cell_type": "code",
   "execution_count": 68,
   "id": "631505c8",
   "metadata": {},
   "outputs": [
    {
     "name": "stderr",
     "output_type": "stream",
     "text": [
      "C:\\Users\\DELL\\AppData\\Local\\Temp\\ipykernel_7332\\1827050169.py:1: SettingWithCopyWarning: \n",
      "A value is trying to be set on a copy of a slice from a DataFrame\n",
      "\n",
      "See the caveats in the documentation: https://pandas.pydata.org/pandas-docs/stable/user_guide/indexing.html#returning-a-view-versus-a-copy\n",
      "  fd.productivity[fd['productivity'] == 'Bad'] =0\n"
     ]
    }
   ],
   "source": [
    "fd.productivity[fd['productivity'] == 'Bad'] =0"
   ]
  },
  {
   "cell_type": "code",
   "execution_count": 69,
   "id": "35994426",
   "metadata": {},
   "outputs": [
    {
     "data": {
      "text/html": [
       "<div>\n",
       "<style scoped>\n",
       "    .dataframe tbody tr th:only-of-type {\n",
       "        vertical-align: middle;\n",
       "    }\n",
       "\n",
       "    .dataframe tbody tr th {\n",
       "        vertical-align: top;\n",
       "    }\n",
       "\n",
       "    .dataframe thead th {\n",
       "        text-align: right;\n",
       "    }\n",
       "</style>\n",
       "<table border=\"1\" class=\"dataframe\">\n",
       "  <thead>\n",
       "    <tr style=\"text-align: right;\">\n",
       "      <th></th>\n",
       "      <th>time</th>\n",
       "      <th>cofee</th>\n",
       "      <th>age</th>\n",
       "      <th>productivity</th>\n",
       "    </tr>\n",
       "  </thead>\n",
       "  <tbody>\n",
       "    <tr>\n",
       "      <th>0</th>\n",
       "      <td>15</td>\n",
       "      <td>0</td>\n",
       "      <td>40</td>\n",
       "      <td>0</td>\n",
       "    </tr>\n",
       "    <tr>\n",
       "      <th>1</th>\n",
       "      <td>2</td>\n",
       "      <td>0</td>\n",
       "      <td>40</td>\n",
       "      <td>1</td>\n",
       "    </tr>\n",
       "    <tr>\n",
       "      <th>2</th>\n",
       "      <td>14</td>\n",
       "      <td>1</td>\n",
       "      <td>40</td>\n",
       "      <td>0</td>\n",
       "    </tr>\n",
       "    <tr>\n",
       "      <th>3</th>\n",
       "      <td>20</td>\n",
       "      <td>0</td>\n",
       "      <td>36</td>\n",
       "      <td>1</td>\n",
       "    </tr>\n",
       "    <tr>\n",
       "      <th>4</th>\n",
       "      <td>13</td>\n",
       "      <td>3</td>\n",
       "      <td>39</td>\n",
       "      <td>1</td>\n",
       "    </tr>\n",
       "    <tr>\n",
       "      <th>...</th>\n",
       "      <td>...</td>\n",
       "      <td>...</td>\n",
       "      <td>...</td>\n",
       "      <td>...</td>\n",
       "    </tr>\n",
       "    <tr>\n",
       "      <th>192</th>\n",
       "      <td>4</td>\n",
       "      <td>4</td>\n",
       "      <td>44</td>\n",
       "      <td>0</td>\n",
       "    </tr>\n",
       "    <tr>\n",
       "      <th>193</th>\n",
       "      <td>19</td>\n",
       "      <td>0</td>\n",
       "      <td>41</td>\n",
       "      <td>0</td>\n",
       "    </tr>\n",
       "    <tr>\n",
       "      <th>194</th>\n",
       "      <td>21</td>\n",
       "      <td>1</td>\n",
       "      <td>30</td>\n",
       "      <td>1</td>\n",
       "    </tr>\n",
       "    <tr>\n",
       "      <th>195</th>\n",
       "      <td>6</td>\n",
       "      <td>5</td>\n",
       "      <td>29</td>\n",
       "      <td>1</td>\n",
       "    </tr>\n",
       "    <tr>\n",
       "      <th>196</th>\n",
       "      <td>5</td>\n",
       "      <td>0</td>\n",
       "      <td>65</td>\n",
       "      <td>0</td>\n",
       "    </tr>\n",
       "  </tbody>\n",
       "</table>\n",
       "<p>169 rows × 4 columns</p>\n",
       "</div>"
      ],
      "text/plain": [
       "     time  cofee  age productivity\n",
       "0      15      0   40            0\n",
       "1       2      0   40            1\n",
       "2      14      1   40            0\n",
       "3      20      0   36            1\n",
       "4      13      3   39            1\n",
       "..    ...    ...  ...          ...\n",
       "192     4      4   44            0\n",
       "193    19      0   41            0\n",
       "194    21      1   30            1\n",
       "195     6      5   29            1\n",
       "196     5      0   65            0\n",
       "\n",
       "[169 rows x 4 columns]"
      ]
     },
     "execution_count": 69,
     "metadata": {},
     "output_type": "execute_result"
    }
   ],
   "source": [
    "fd"
   ]
  },
  {
   "cell_type": "code",
   "execution_count": 71,
   "id": "28c9127d",
   "metadata": {},
   "outputs": [],
   "source": [
    "y1 = fd['productivity']"
   ]
  },
  {
   "cell_type": "code",
   "execution_count": 84,
   "id": "354398f5",
   "metadata": {},
   "outputs": [],
   "source": [
    "x1 = fd.drop('productivity',axis=1)"
   ]
  },
  {
   "cell_type": "code",
   "execution_count": 74,
   "id": "bbc258af",
   "metadata": {},
   "outputs": [
    {
     "name": "stdout",
     "output_type": "stream",
     "text": [
      "<class 'pandas.core.frame.DataFrame'>\n",
      "Int64Index: 169 entries, 0 to 196\n",
      "Data columns (total 3 columns):\n",
      " #   Column  Non-Null Count  Dtype\n",
      "---  ------  --------------  -----\n",
      " 0   time    169 non-null    int32\n",
      " 1   cofee   169 non-null    int32\n",
      " 2   age     169 non-null    int32\n",
      "dtypes: int32(3)\n",
      "memory usage: 3.3 KB\n"
     ]
    }
   ],
   "source": [
    "x.info()"
   ]
  },
  {
   "cell_type": "code",
   "execution_count": 76,
   "id": "3c5a90f7",
   "metadata": {},
   "outputs": [],
   "source": [
    "y1 = y1.astype(int)"
   ]
  },
  {
   "cell_type": "code",
   "execution_count": 80,
   "id": "fec0a0b3",
   "metadata": {},
   "outputs": [
    {
     "data": {
      "text/plain": [
       "dtype('int32')"
      ]
     },
     "execution_count": 80,
     "metadata": {},
     "output_type": "execute_result"
    }
   ],
   "source": [
    "y1.dtypes"
   ]
  },
  {
   "cell_type": "code",
   "execution_count": 82,
   "id": "43dfb7ad",
   "metadata": {},
   "outputs": [
    {
     "data": {
      "text/plain": [
       "0      0\n",
       "1      1\n",
       "2      0\n",
       "3      1\n",
       "4      1\n",
       "      ..\n",
       "192    0\n",
       "193    0\n",
       "194    1\n",
       "195    1\n",
       "196    0\n",
       "Name: productivity, Length: 169, dtype: int32"
      ]
     },
     "execution_count": 82,
     "metadata": {},
     "output_type": "execute_result"
    }
   ],
   "source": [
    "y1"
   ]
  },
  {
   "cell_type": "code",
   "execution_count": 86,
   "id": "8f0ac781",
   "metadata": {},
   "outputs": [
    {
     "data": {
      "text/plain": [
       "time     int32\n",
       "cofee    int32\n",
       "age      int32\n",
       "dtype: object"
      ]
     },
     "execution_count": 86,
     "metadata": {},
     "output_type": "execute_result"
    }
   ],
   "source": [
    "x1.dtypes"
   ]
  },
  {
   "cell_type": "code",
   "execution_count": 90,
   "id": "2b53ce90",
   "metadata": {},
   "outputs": [],
   "source": [
    "xtrain,xtest,ytrain,ytest = train_test_split(x1,y1,test_size=0.3,random_state=10)"
   ]
  },
  {
   "cell_type": "markdown",
   "id": "76226be2",
   "metadata": {},
   "source": [
    "# Logistic Regression"
   ]
  },
  {
   "cell_type": "code",
   "execution_count": 91,
   "id": "ebad746b",
   "metadata": {},
   "outputs": [],
   "source": [
    "Log = LogisticRegression()"
   ]
  },
  {
   "cell_type": "code",
   "execution_count": 92,
   "id": "36c7168f",
   "metadata": {},
   "outputs": [],
   "source": [
    "Logfit = Log.fit(xtrain,ytrain)"
   ]
  },
  {
   "cell_type": "code",
   "execution_count": 93,
   "id": "d749b241",
   "metadata": {},
   "outputs": [],
   "source": [
    "Logypred = Log.predict(xtest)"
   ]
  },
  {
   "cell_type": "code",
   "execution_count": 94,
   "id": "6cf1f155",
   "metadata": {},
   "outputs": [
    {
     "data": {
      "text/plain": [
       "array([0, 1, 1, 0, 0, 1, 0, 1, 0, 1, 0, 0, 1, 1, 1, 0, 0, 0, 0, 1, 0, 0,\n",
       "       0, 0, 0, 1, 1, 0, 0, 1, 0, 1, 0, 0, 1, 1, 0, 1, 1, 1, 0, 1, 0, 0,\n",
       "       1, 1, 0, 0, 1, 0, 1])"
      ]
     },
     "execution_count": 94,
     "metadata": {},
     "output_type": "execute_result"
    }
   ],
   "source": [
    "Logypred"
   ]
  },
  {
   "cell_type": "code",
   "execution_count": 95,
   "id": "62024697",
   "metadata": {},
   "outputs": [],
   "source": [
    "Logyprob = Log.decision_function(xtest)"
   ]
  },
  {
   "cell_type": "code",
   "execution_count": 124,
   "id": "0b8cfb65",
   "metadata": {},
   "outputs": [],
   "source": [
    "LogypredictingProbabilities =  Log.predict_proba(xtest)"
   ]
  },
  {
   "cell_type": "code",
   "execution_count": 96,
   "id": "2aa00ef9",
   "metadata": {},
   "outputs": [
    {
     "name": "stdout",
     "output_type": "stream",
     "text": [
      "[[-0.00654347  0.03154772 -0.02707791]]\n",
      "[1.10421422]\n"
     ]
    }
   ],
   "source": [
    "print(Log.coef_)\n",
    "print(Log.intercept_)"
   ]
  },
  {
   "cell_type": "code",
   "execution_count": 98,
   "id": "c1ac0e6e",
   "metadata": {},
   "outputs": [
    {
     "data": {
      "text/plain": [
       "0.5098039215686274"
      ]
     },
     "execution_count": 98,
     "metadata": {},
     "output_type": "execute_result"
    }
   ],
   "source": [
    "Log.score(xtest,ytest)"
   ]
  },
  {
   "cell_type": "code",
   "execution_count": 101,
   "id": "5af92c4f",
   "metadata": {},
   "outputs": [
    {
     "name": "stdout",
     "output_type": "stream",
     "text": [
      "[[14 11]\n",
      " [14 12]]\n",
      "              precision    recall  f1-score   support\n",
      "\n",
      "           0       0.50      0.56      0.53        25\n",
      "           1       0.52      0.46      0.49        26\n",
      "\n",
      "    accuracy                           0.51        51\n",
      "   macro avg       0.51      0.51      0.51        51\n",
      "weighted avg       0.51      0.51      0.51        51\n",
      "\n"
     ]
    }
   ],
   "source": [
    "print(confusion_matrix(ytest,Logypred))\n",
    "print(classification_report(ytest,Logypred))"
   ]
  },
  {
   "cell_type": "code",
   "execution_count": 115,
   "id": "229bdf8f",
   "metadata": {},
   "outputs": [
    {
     "data": {
      "text/plain": [
       "<AxesSubplot:>"
      ]
     },
     "execution_count": 115,
     "metadata": {},
     "output_type": "execute_result"
    },
    {
     "data": {
      "image/png": "[encoded data removed]",
      "text/plain": [
       "<Figure size 640x480 with 2 Axes>"
      ]
     },
     "metadata": {},
     "output_type": "display_data"
    }
   ],
   "source": [
    "sns.heatmap(confusion_matrix(ytest,Logypred),annot=True)"
   ]
  },
  {
   "cell_type": "markdown",
   "id": "7677a4b6",
   "metadata": {},
   "source": [
    "# SVM"
   ]
  },
  {
   "cell_type": "code",
   "execution_count": 117,
   "id": "4888f789",
   "metadata": {},
   "outputs": [],
   "source": [
    "Sv = SVC(probability = True,kernel='linear')"
   ]
  },
  {
   "cell_type": "code",
   "execution_count": 118,
   "id": "bb8f648b",
   "metadata": {},
   "outputs": [],
   "source": [
    "Svfit = Sv.fit(xtrain,ytrain)"
   ]
  },
  {
   "cell_type": "code",
   "execution_count": 119,
   "id": "440517ca",
   "metadata": {},
   "outputs": [],
   "source": [
    "Svypred = Sv.predict(xtest)"
   ]
  },
  {
   "cell_type": "code",
   "execution_count": 125,
   "id": "a5b8b623",
   "metadata": {},
   "outputs": [],
   "source": [
    "Svyprob = Sv.decision_function(xtest)"
   ]
  },
  {
   "cell_type": "code",
   "execution_count": 126,
   "id": "fe84c880",
   "metadata": {},
   "outputs": [],
   "source": [
    "SvypredictingProbalities = Sv.predict_proba(xtest)"
   ]
  },
  {
   "cell_type": "code",
   "execution_count": 128,
   "id": "1c72612a",
   "metadata": {},
   "outputs": [
    {
     "name": "stdout",
     "output_type": "stream",
     "text": [
      "[[-3.24917404e-05 -9.47979150e-05 -5.88304551e-02]]\n",
      "[2.53038587]\n"
     ]
    }
   ],
   "source": [
    "print(Sv.coef_)\n",
    "print(Sv.intercept_)"
   ]
  },
  {
   "cell_type": "code",
   "execution_count": 129,
   "id": "a09a845c",
   "metadata": {},
   "outputs": [
    {
     "data": {
      "text/plain": [
       "0.47058823529411764"
      ]
     },
     "execution_count": 129,
     "metadata": {},
     "output_type": "execute_result"
    }
   ],
   "source": [
    "Sv.score(xtest,ytest)"
   ]
  },
  {
   "cell_type": "code",
   "execution_count": 132,
   "id": "9b4f9e99",
   "metadata": {},
   "outputs": [
    {
     "name": "stdout",
     "output_type": "stream",
     "text": [
      "[[11 14]\n",
      " [13 13]]\n",
      "              precision    recall  f1-score   support\n",
      "\n",
      "           0       0.46      0.44      0.45        25\n",
      "           1       0.48      0.50      0.49        26\n",
      "\n",
      "    accuracy                           0.47        51\n",
      "   macro avg       0.47      0.47      0.47        51\n",
      "weighted avg       0.47      0.47      0.47        51\n",
      "\n"
     ]
    }
   ],
   "source": [
    "print(confusion_matrix(ytest,Svypred))\n",
    "print(classification_report(ytest,Svypred))"
   ]
  },
  {
   "cell_type": "code",
   "execution_count": 135,
   "id": "70a9aa1d",
   "metadata": {},
   "outputs": [
    {
     "data": {
      "text/plain": [
       "<AxesSubplot:>"
      ]
     },
     "execution_count": 135,
     "metadata": {},
     "output_type": "execute_result"
    },
    {
     "data": {
      "image/png": "[encoded data removed]",
      "text/plain": [
       "<Figure size 640x480 with 2 Axes>"
      ]
     },
     "metadata": {},
     "output_type": "display_data"
    }
   ],
   "source": [
    "sns.heatmap(confusion_matrix(ytest,Svypred),annot=True)"
   ]
  },
  {
   "cell_type": "markdown",
   "id": "72eec32d",
   "metadata": {},
   "source": [
    "# Random Forest"
   ]
  },
  {
   "cell_type": "code",
   "execution_count": 136,
   "id": "a4dd2b8b",
   "metadata": {},
   "outputs": [],
   "source": [
    "rand = ensemble.RandomForestClassifier(n_estimators=100)"
   ]
  },
  {
   "cell_type": "code",
   "execution_count": 154,
   "id": "d889e0ea",
   "metadata": {},
   "outputs": [
    {
     "data": {
      "text/plain": [
       "RandomForestClassifier()"
      ]
     },
     "execution_count": 154,
     "metadata": {},
     "output_type": "execute_result"
    }
   ],
   "source": [
    "rand.fit(xtrain,ytrain)"
   ]
  },
  {
   "cell_type": "code",
   "execution_count": 155,
   "id": "eff33644",
   "metadata": {},
   "outputs": [],
   "source": [
    "yrandpred = rand.predict(xtest)"
   ]
  },
  {
   "cell_type": "code",
   "execution_count": 156,
   "id": "82d3db14",
   "metadata": {},
   "outputs": [
    {
     "ename": "AttributeError",
     "evalue": "'RandomForestClassifier' object has no attribute 'decision_function'",
     "output_type": "error",
     "traceback": [
      "\u001b[1;31m---------------------------------------------------------------------------\u001b[0m",
      "\u001b[1;31mAttributeError\u001b[0m                            Traceback (most recent call last)",
      "\u001b[1;32m~\\AppData\\Local\\Temp\\ipykernel_7332\\2780146979.py\u001b[0m in \u001b[0;36m<module>\u001b[1;34m\u001b[0m\n\u001b[1;32m----> 1\u001b[1;33m \u001b[0myrandprob\u001b[0m \u001b[1;33m=\u001b[0m \u001b[0mrand\u001b[0m\u001b[1;33m.\u001b[0m\u001b[0mdecision_function\u001b[0m\u001b[1;33m(\u001b[0m\u001b[0mxtest\u001b[0m\u001b[1;33m)\u001b[0m\u001b[1;33m\u001b[0m\u001b[1;33m\u001b[0m\u001b[0m\n\u001b[0m",
      "\u001b[1;31mAttributeError\u001b[0m: 'RandomForestClassifier' object has no attribute 'decision_function'"
     ]
    }
   ],
   "source": [
    "yrandprob = rand.decision_function(xtest)"
   ]
  },
  {
   "cell_type": "code",
   "execution_count": 157,
   "id": "57e5fe76",
   "metadata": {},
   "outputs": [],
   "source": [
    "yrandpredictingprobalities = rand.predict_proba(xtest)"
   ]
  },
  {
   "cell_type": "code",
   "execution_count": 158,
   "id": "7f7ffc24",
   "metadata": {},
   "outputs": [],
   "source": [
    "#print(rand.coef_)\n",
    "#print(rand.intercept_)"
   ]
  },
  {
   "cell_type": "code",
   "execution_count": 159,
   "id": "efefdf2f",
   "metadata": {},
   "outputs": [
    {
     "data": {
      "text/plain": [
       "0.5294117647058824"
      ]
     },
     "execution_count": 159,
     "metadata": {},
     "output_type": "execute_result"
    }
   ],
   "source": [
    "rand.score(xtest,ytest)"
   ]
  },
  {
   "cell_type": "code",
   "execution_count": 150,
   "id": "fc3fcbee",
   "metadata": {},
   "outputs": [
    {
     "name": "stdout",
     "output_type": "stream",
     "text": [
      "[[16  9]\n",
      " [15 11]]\n",
      "              precision    recall  f1-score   support\n",
      "\n",
      "           0       0.52      0.64      0.57        25\n",
      "           1       0.55      0.42      0.48        26\n",
      "\n",
      "    accuracy                           0.53        51\n",
      "   macro avg       0.53      0.53      0.52        51\n",
      "weighted avg       0.53      0.53      0.52        51\n",
      "\n"
     ]
    }
   ],
   "source": [
    "print(confusion_matrix(ytest,yrandpred))\n",
    "print(classification_report(ytest,yrandpred))"
   ]
  },
  {
   "cell_type": "code",
   "execution_count": 160,
   "id": "2ef38249",
   "metadata": {},
   "outputs": [
    {
     "data": {
      "text/plain": [
       "<AxesSubplot:>"
      ]
     },
     "execution_count": 160,
     "metadata": {},
     "output_type": "execute_result"
    },
    {
     "data": {
      "image/png": "[encoded data removed]",
      "text/plain": [
       "<Figure size 640x480 with 2 Axes>"
      ]
     },
     "metadata": {},
     "output_type": "display_data"
    }
   ],
   "source": [
    "sns.heatmap(confusion_matrix(ytest,yrandpred),annot=True)"
   ]
  },
  {
   "cell_type": "markdown",
   "id": "ef86bcfe",
   "metadata": {},
   "source": [
    "# Decision Tree"
   ]
  },
  {
   "cell_type": "code",
   "execution_count": 152,
   "id": "69ca97be",
   "metadata": {},
   "outputs": [],
   "source": [
    "DT = tree.DecisionTreeClassifier(max_depth = 10)"
   ]
  },
  {
   "cell_type": "code",
   "execution_count": 153,
   "id": "dce1da7e",
   "metadata": {},
   "outputs": [
    {
     "data": {
      "text/plain": [
       "DecisionTreeClassifier(max_depth=10)"
      ]
     },
     "execution_count": 153,
     "metadata": {},
     "output_type": "execute_result"
    }
   ],
   "source": [
    "DT.fit(xtrain,ytrain)"
   ]
  },
  {
   "cell_type": "code",
   "execution_count": 161,
   "id": "26914d35",
   "metadata": {},
   "outputs": [],
   "source": [
    "Dtypred = DT.predict(xtest)"
   ]
  },
  {
   "cell_type": "code",
   "execution_count": 162,
   "id": "e8d1ce23",
   "metadata": {},
   "outputs": [
    {
     "ename": "AttributeError",
     "evalue": "'DecisionTreeClassifier' object has no attribute 'decision_function'",
     "output_type": "error",
     "traceback": [
      "\u001b[1;31m---------------------------------------------------------------------------\u001b[0m",
      "\u001b[1;31mAttributeError\u001b[0m                            Traceback (most recent call last)",
      "\u001b[1;32m~\\AppData\\Local\\Temp\\ipykernel_7332\\895578305.py\u001b[0m in \u001b[0;36m<module>\u001b[1;34m\u001b[0m\n\u001b[1;32m----> 1\u001b[1;33m \u001b[0mDtyprob\u001b[0m \u001b[1;33m=\u001b[0m \u001b[0mDT\u001b[0m\u001b[1;33m.\u001b[0m\u001b[0mdecision_function\u001b[0m\u001b[1;33m(\u001b[0m\u001b[0mxtest\u001b[0m\u001b[1;33m)\u001b[0m\u001b[1;33m\u001b[0m\u001b[1;33m\u001b[0m\u001b[0m\n\u001b[0m",
      "\u001b[1;31mAttributeError\u001b[0m: 'DecisionTreeClassifier' object has no attribute 'decision_function'"
     ]
    }
   ],
   "source": [
    "Dtyprob = DT.decision_function(xtest)"
   ]
  },
  {
   "cell_type": "code",
   "execution_count": 163,
   "id": "7a82f913",
   "metadata": {},
   "outputs": [],
   "source": [
    "Dtpredictingprobalities = DT.predict_proba(xtest)"
   ]
  },
  {
   "cell_type": "code",
   "execution_count": 165,
   "id": "ed21acd2",
   "metadata": {},
   "outputs": [
    {
     "name": "stdout",
     "output_type": "stream",
     "text": [
      "[[18  7]\n",
      " [16 10]]\n",
      "              precision    recall  f1-score   support\n",
      "\n",
      "           0       0.53      0.72      0.61        25\n",
      "           1       0.59      0.38      0.47        26\n",
      "\n",
      "    accuracy                           0.55        51\n",
      "   macro avg       0.56      0.55      0.54        51\n",
      "weighted avg       0.56      0.55      0.54        51\n",
      "\n"
     ]
    }
   ],
   "source": [
    "print(confusion_matrix(ytest,Dtypred))\n",
    "print(classification_report(ytest,Dtypred))"
   ]
  },
  {
   "cell_type": "code",
   "execution_count": 167,
   "id": "05f0f14f",
   "metadata": {},
   "outputs": [
    {
     "data": {
      "text/plain": [
       "<AxesSubplot:>"
      ]
     },
     "execution_count": 167,
     "metadata": {},
     "output_type": "execute_result"
    },
    {
     "data": {
      "image/png": "[encoded data removed]",
      "text/plain": [
       "<Figure size 640x480 with 2 Axes>"
      ]
     },
     "metadata": {},
     "output_type": "display_data"
    }
   ],
   "source": [
    "sns.heatmap(confusion_matrix(ytest,Dtypred), annot=True)"
   ]
  },
  {
   "cell_type": "code",
   "execution_count": 168,
   "id": "ceb09f86",
   "metadata": {},
   "outputs": [
    {
     "data": {
      "text/plain": [
       "0.5490196078431373"
      ]
     },
     "execution_count": 168,
     "metadata": {},
     "output_type": "execute_result"
    }
   ],
   "source": [
    "DT.score(xtest,ytest)"
   ]
  },
  {
   "cell_type": "markdown",
   "id": "150a94b0",
   "metadata": {},
   "source": [
    "# Calculating ROC and AUC"
   ]
  },
  {
   "cell_type": "code",
   "execution_count": 214,
   "id": "9257fda5",
   "metadata": {},
   "outputs": [],
   "source": [
    "LogFPR,LogTPR, threshold = roc_curve(ytest,Logyprob)"
   ]
  },
  {
   "cell_type": "code",
   "execution_count": 215,
   "id": "2277f10c",
   "metadata": {},
   "outputs": [],
   "source": [
    "LogAUC = auc(LogFPR,LogTPR)"
   ]
  },
  {
   "cell_type": "code",
   "execution_count": 216,
   "id": "eb6c08e4",
   "metadata": {},
   "outputs": [],
   "source": [
    "SvFPR,SvTPR, threshold = roc_curve(ytest,Svyprob)"
   ]
  },
  {
   "cell_type": "code",
   "execution_count": 217,
   "id": "e190d20c",
   "metadata": {},
   "outputs": [],
   "source": [
    "SvAUC = auc(SvFPR,SvTPR)"
   ]
  },
  {
   "cell_type": "code",
   "execution_count": 213,
   "id": "e563fea3",
   "metadata": {},
   "outputs": [
    {
     "data": {
      "text/plain": [
       "<matplotlib.legend.Legend at 0x1f40aef2c10>"
      ]
     },
     "execution_count": 213,
     "metadata": {},
     "output_type": "execute_result"
    },
    {
     "data": {
      "image/png": "[encoded data removed]",
      "text/plain": [
       "<Figure size 640x480 with 1 Axes>"
      ]
     },
     "metadata": {},
     "output_type": "display_data"
    }
   ],
   "source": [
    "plt.plot(LogFPR,LogTPR,label='Logistic Regression  %0.3f' %(LogAUC))\n",
    "plt.plot(SvFPR,SvTPR,label= 'Support Vector Machine (auc= %0.3f)' %(SvAUC))\n",
    "\n",
    "plt.xlabel('True Positive Rate -->')\n",
    "plt.ylabel('False Positive Rate-->')\n",
    "plt.title('ROC Curve')\n",
    "plt.legend()"
   ]
  },
  {
   "cell_type": "code",
   "execution_count": null,
   "id": "40cd1885",
   "metadata": {},
   "outputs": [],
   "source": []
  }
 ],
 "metadata": {
  "kernelspec": {
   "display_name": "Python 3 (ipykernel)",
   "language": "python",
   "name": "python3"
  },
  "language_info": {
   "codemirror_mode": {
    "name": "ipython",
    "version": 3
   },
   "file_extension": ".py",
   "mimetype": "text/x-python",
   "name": "python",
   "nbconvert_exporter": "python",
   "pygments_lexer": "ipython3",
   "version": "3.9.13"
  }
 },
 "nbformat": 4,
 "nbformat_minor": 5
}
